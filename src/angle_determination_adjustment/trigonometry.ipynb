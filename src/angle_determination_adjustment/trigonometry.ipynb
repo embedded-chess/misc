{
 "cells": [
  {
   "cell_type": "markdown",
   "metadata": {},
   "source": [
    "# Ansatz: Anpassung der Trigonometrie\n",
    "\n",
    "siehe [`ECPSignalDetection::measureSignalAngle`](https://github.com/embedded-chess/embedded-chess-pieces/blob/main/example/EmbeddedChessPieces/src/ECPSignalDetection/ECPSignalDetection.cpp)"
   ]
  },
  {
   "cell_type": "code",
   "execution_count": 1,
   "metadata": {},
   "outputs": [],
   "source": [
    "# change correspondingly\n",
    "ANGLE_N = 100\n",
    "ANGLE_S = 118"
   ]
  },
  {
   "cell_type": "code",
   "execution_count": 2,
   "metadata": {},
   "outputs": [
    {
     "name": "stdout",
     "output_type": "stream",
     "text": [
      "N: -0.1736 0.9848\n",
      "S: 0.4695 -0.8829\n"
     ]
    }
   ],
   "source": [
    "import numpy as np\n",
    "\n",
    "TAN_N = np.tan(ANGLE_N * np.pi / 180.0)\n",
    "TAN_S = np.tan(ANGLE_S * np.pi / 180.0)\n",
    "\n",
    "FACTOR_N_X = -1.0 / (1.0 + TAN_N**2)**0.5\n",
    "FACTOR_N_Y = -TAN_N / (1.0 + TAN_N**2)**0.5\n",
    "print(f'N: {FACTOR_N_X:.4f} {FACTOR_N_Y:.4f}')\n",
    "\n",
    "FACTOR_S_X = 1.0 / (1.0 + TAN_S**2)**0.5\n",
    "FACTOR_S_Y = TAN_S / (1.0 + TAN_S**2)**0.5\n",
    "print(f'S: {FACTOR_S_X:.4f} {FACTOR_S_Y:.4f}')"
   ]
  },
  {
   "cell_type": "code",
   "execution_count": 3,
   "metadata": {},
   "outputs": [],
   "source": [
    "def calc(north, east, south, west):\n",
    "    vec_north = [north * FACTOR_N_X, north * FACTOR_N_Y]\n",
    "    vec_east = [east, 0]\n",
    "    vec_south = [south * FACTOR_S_X, south * FACTOR_S_Y ]\n",
    "    vec_west = [-west, 0]\n",
    "\n",
    "    resultant_x = vec_north[0] + vec_east[0] + vec_south[0] + vec_west[0]\n",
    "    resultant_y = vec_north[1] + vec_east[1] + vec_south[1] + vec_west[1]\n",
    "\n",
    "    print(f'{resultant_x:.4f} {resultant_y:.4f}')\n",
    "\n",
    "    angle = np.arctan2(resultant_x, resultant_y)\n",
    "    angle = angle * (180.0 / np.pi)\n",
    "    angle = round(angle)\n",
    "    angle = (angle + 360) % 360\n",
    "    print(f'==> {angle}°')\n",
    "\n",
    "def calc_old(north, east, south, west):\n",
    "    resultant_x = east - west\n",
    "    resultant_y = north - south\n",
    "    print(f'{resultant_x:.4f} {resultant_y:.4f}')\n",
    "    \n",
    "    angle = np.arctan2(resultant_x, resultant_y)\n",
    "    angle = angle * (180.0 / np.pi)\n",
    "    angle = round(angle)\n",
    "    angle = (angle + 360) % 360\n",
    "    print(f'==> {angle}°')"
   ]
  },
  {
   "cell_type": "code",
   "execution_count": 4,
   "metadata": {},
   "outputs": [
    {
     "name": "stdout",
     "output_type": "stream",
     "text": [
      "-0.7929 0.3158\n",
      "==> 292°\n",
      "=======\n",
      "-0.8000 0.3000\n",
      "==> 291°\n"
     ]
    }
   ],
   "source": [
    "# north east south west\n",
    "calc(0.5, 0.2, 0.2, 1.0)\n",
    "print('=======')\n",
    "calc_old(0.5, 0.2, 0.2, 1.0)"
   ]
  },
  {
   "cell_type": "code",
   "execution_count": 5,
   "metadata": {},
   "outputs": [],
   "source": [
    "import matplotlib.pyplot as plt\n",
    "import numpy as np\n",
    "\n",
    "plt.rcParams['pgf.texsystem'] = 'pdflatex'\n",
    "plt.rcParams['font.family'] = 'serif'\n",
    "plt.rcParams['font.size'] = 14.0\n",
    "plt.rcParams['text.usetex'] = True\n",
    "plt.rcParams['legend.loc'] = 'lower right'\n",
    "plt.rcParams['savefig.bbox'] = 'tight'\n",
    "\n",
    "def plot_signal_direction(north, east, south, west):\n",
    "    fig, ax = plt.subplots()\n",
    "\n",
    "    ax.set_xlim(-2.15, 2.25)\n",
    "    ax.set_ylim(-2.25, 2.25)\n",
    "    \n",
    "    plt.xticks(np.linspace(-2, 2, 9))\n",
    "    \n",
    "    ax.axhline(0, color='black',linewidth=0.5, ls='--')\n",
    "    ax.axvline(0, color='black',linewidth=0.5, ls='--')\n",
    "    \n",
    "    ax.set_xlabel('Ost-West-Richtung')\n",
    "    ax.set_ylabel('Nord-Süd-Richtung')\n",
    "\n",
    "    ax.quiver(0, 0, 0, north, angles='xy', scale_units='xy', scale=1, color='deepskyblue', label=\"N\")\n",
    "    ax.quiver(0, 0, FACTOR_N_X * north, FACTOR_N_Y * north, angles='xy', scale_units='xy', scale=1, color='blue', label=r\"N$'$\")\n",
    "    \n",
    "    ax.quiver(0, 0, 0, -south, angles='xy', scale_units='xy', scale=1, color='tomato', label=\"S\")\n",
    "    ax.quiver(0, 0, FACTOR_S_X * south, FACTOR_S_Y * south, angles='xy', scale_units='xy', scale=1, color='orangered', label=r\"S$'$\")\n",
    "\n",
    "    ax.legend()\n",
    "    plt.grid()\n",
    "    plt.show()"
   ]
  },
  {
   "cell_type": "code",
   "execution_count": 6,
   "metadata": {},
   "outputs": [
    {
     "data": {
      "image/png": "[encoded data removed]",
      "text/plain": [
       "<Figure size 640x480 with 1 Axes>"
      ]
     },
     "metadata": {},
     "output_type": "display_data"
    }
   ],
   "source": [
    "north = 2\n",
    "east = 0.2\n",
    "south = 2\n",
    "west = 1.0\n",
    "\n",
    "plot_signal_direction(north, east, south, west)"
   ]
  }
 ],
 "metadata": {
  "kernelspec": {
   "display_name": ".venv",
   "language": "python",
   "name": "python3"
  },
  "language_info": {
   "codemirror_mode": {
    "name": "ipython",
    "version": 3
   },
   "file_extension": ".py",
   "mimetype": "text/x-python",
   "name": "python",
   "nbconvert_exporter": "python",
   "pygments_lexer": "ipython3",
   "version": "3.12.9"
  }
 },
 "nbformat": 4,
 "nbformat_minor": 2
}
